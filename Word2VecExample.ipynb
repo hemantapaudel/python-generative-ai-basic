{
  "nbformat": 4,
  "nbformat_minor": 0,
  "metadata": {
    "colab": {
      "provenance": [],
      "toc_visible": true,
      "authorship_tag": "ABX9TyOQb12aZz3gCzS2wdrYTuuJ",
      "include_colab_link": true
    },
    "kernelspec": {
      "name": "python3",
      "display_name": "Python 3"
    },
    "language_info": {
      "name": "python"
    }
  },
  "cells": [
    {
      "cell_type": "markdown",
      "metadata": {
        "id": "view-in-github",
        "colab_type": "text"
      },
      "source": [
        "<a href=\"https://colab.research.google.com/github/hemantapaudel/python-generative-ai-basic/blob/master/Word2VecExample.ipynb\" target=\"_parent\"><img src=\"https://colab.research.google.com/assets/colab-badge.svg\" alt=\"Open In Colab\"/></a>"
      ]
    },
    {
      "cell_type": "code",
      "execution_count": null,
      "metadata": {
        "id": "-QQez8K4sTBI"
      },
      "outputs": [],
      "source": [
        "pip install gensim\n"
      ]
    },
    {
      "cell_type": "code",
      "source": [
        "import gensim\n",
        "from gensim.models import Word2Vec, KeyedVectors\n",
        "import gensim.downloader as api\n",
        "# Load the pre-trained Word2Vec model\n",
        "model = api.load(\"word2vec-google-news-300\")"
      ],
      "metadata": {
        "id": "kABJuvJBk7p2"
      },
      "execution_count": null,
      "outputs": []
    },
    {
      "cell_type": "code",
      "source": [
        "print(\"========Word2Vec Representation=======================\")\n",
        "vector = model[\"king\"]\n",
        "print(vector.shape)\n",
        "print(model.most_similar(\"king\"))\n",
        "arr = model.most_similar(\"king\")\n",
        "for word in arr:\n",
        "  print(word[0])"
      ],
      "metadata": {
        "colab": {
          "base_uri": "https://localhost:8080/"
        },
        "id": "XatQZOZzk942",
        "outputId": "ac808a89-b540-4c78-cf62-c50105c0427f"
      },
      "execution_count": 6,
      "outputs": [
        {
          "output_type": "stream",
          "name": "stdout",
          "text": [
            "========Word2Vec Representation=======================\n",
            "(300,)\n",
            "[('kings', 0.7138045430183411), ('queen', 0.6510956883430481), ('monarch', 0.6413194537162781), ('crown_prince', 0.6204220056533813), ('prince', 0.6159993410110474), ('sultan', 0.5864824056625366), ('ruler', 0.5797567367553711), ('princes', 0.5646552443504333), ('Prince_Paras', 0.5432944297790527), ('throne', 0.5422105193138123)]\n",
            "kings\n",
            "queen\n",
            "monarch\n",
            "crown_prince\n",
            "prince\n",
            "sultan\n",
            "ruler\n",
            "princes\n",
            "Prince_Paras\n",
            "throne\n"
          ]
        }
      ]
    }
  ]
}